{
  "cells": [
    {
      "cell_type": "markdown",
      "id": "55e6b918-afac-43e8-b338-43f8ac64014f",
      "metadata": {
        "id": "55e6b918-afac-43e8-b338-43f8ac64014f"
      },
      "source": [
        "##  Deep Neural Networks Project"
      ]
    },
    {
      "cell_type": "markdown",
      "id": "1a8e066d-2849-4a6e-9c71-bb98d605ae07",
      "metadata": {
        "id": "1a8e066d-2849-4a6e-9c71-bb98d605ae07"
      },
      "source": [
        "In this project, you will be working with a real-world data set from the Las Vegas Metropolitan Police Department. The dataset  contains information about the reported incidents, including the time and location of the crime, type of incident, and number of persons involved."
      ]
    },
    {
      "cell_type": "markdown",
      "id": "9e87fac7-352a-4c39-b087-76254b5e2743",
      "metadata": {
        "id": "9e87fac7-352a-4c39-b087-76254b5e2743"
      },
      "source": [
        "The dataset is downloaded from the public docket at:\n",
        "https://opendata-lvmpd.hub.arcgis.com\n",
        "\n",
        "let's read the csv file and transform the data:"
      ]
    },
    {
      "cell_type": "code",
      "source": [
        "from google.colab import drive\n",
        "drive.mount('/content/drive')"
      ],
      "metadata": {
        "colab": {
          "base_uri": "https://localhost:8080/"
        },
        "id": "8-Hf4NsKIaWx",
        "outputId": "654660da-b765-43a8-91a8-95e9e19dbdbd"
      },
      "id": "8-Hf4NsKIaWx",
      "execution_count": 3600,
      "outputs": [
        {
          "output_type": "stream",
          "name": "stdout",
          "text": [
            "Drive already mounted at /content/drive; to attempt to forcibly remount, call drive.mount(\"/content/drive\", force_remount=True).\n"
          ]
        }
      ]
    },
    {
      "cell_type": "markdown",
      "source": [],
      "metadata": {
        "id": "RS97sO5-Ycy0"
      },
      "id": "RS97sO5-Ycy0"
    },
    {
      "cell_type": "code",
      "execution_count": 3601,
      "id": "637211a4-582f-426b-a127-c3f284463f35",
      "metadata": {
        "id": "637211a4-582f-426b-a127-c3f284463f35"
      },
      "outputs": [],
      "source": [
        "import torch\n",
        "import pandas as pd\n",
        "from torch.utils.data import DataLoader, Dataset\n",
        "import matplotlib.pyplot as plt\n",
        "import seaborn as sns\n",
        "import numpy as np"
      ]
    },
    {
      "cell_type": "code",
      "execution_count": 3602,
      "id": "bcf40b02-80b6-4abc-a662-f7ed50a65181",
      "metadata": {
        "id": "bcf40b02-80b6-4abc-a662-f7ed50a65181"
      },
      "outputs": [],
      "source": [
        "orig_df = pd.read_csv('/content/drive/MyDrive/Colab/pattern/as3/LVMPD-Stats.csv', parse_dates=['ReportedOn'])"
      ]
    },
    {
      "cell_type": "code",
      "execution_count": 3603,
      "id": "e1ca1d15-3955-4971-a3c4-c1a73b62edda",
      "metadata": {
        "id": "e1ca1d15-3955-4971-a3c4-c1a73b62edda"
      },
      "outputs": [],
      "source": [
        "df = pd.read_csv('/content/drive/MyDrive/Colab/pattern/as3/LVMPD-Stats.csv', parse_dates=['ReportedOn'],\n",
        "                 usecols = ['X', 'Y', 'ReportedOn',\n",
        "                            'Area_Command','NIBRSOffenseCode',\n",
        "                            'VictimCount' ] )\n",
        "\n",
        "df['DayOfWeek'] = df['ReportedOn'].dt.day_name()\n",
        "df['Time' ]     = df['ReportedOn'].dt.hour\n",
        "df.drop(columns = 'ReportedOn', inplace=True)"
      ]
    },
    {
      "cell_type": "code",
      "execution_count": 3604,
      "id": "3ddc413d-ba3f-4204-bc18-7fdd4de8d221",
      "metadata": {
        "id": "3ddc413d-ba3f-4204-bc18-7fdd4de8d221"
      },
      "outputs": [],
      "source": [
        "\n",
        "df['X'] = df['X']\n",
        "df['Y'] = df['Y']\n",
        "df['Time'] = pd.factorize(df['Time'])[0]\n",
        "df['DayOfWeek'] = pd.factorize(df['DayOfWeek'])[0]\n",
        "df.Area_Command = pd.factorize(df['Area_Command'])[0]\n",
        "df.VictimCount = pd.factorize(df['VictimCount'])[0]\n",
        "df.NIBRSOffenseCode = pd.factorize(df['NIBRSOffenseCode'])[0]\n",
        "df.dropna(inplace=True)"
      ]
    },
    {
      "cell_type": "code",
      "execution_count": 3605,
      "id": "a9c6162f-9686-4195-818d-950a6368c686",
      "metadata": {
        "id": "a9c6162f-9686-4195-818d-950a6368c686"
      },
      "outputs": [],
      "source": [
        "df= df[['X', 'Y', 'Area_Command', 'NIBRSOffenseCode',\n",
        "       'DayOfWeek', 'Time','VictimCount']]"
      ]
    },
    {
      "cell_type": "code",
      "execution_count": 3606,
      "id": "a90bc78a-6d1b-4fe4-a1b0-8333aec1c851",
      "metadata": {
        "colab": {
          "base_uri": "https://localhost:8080/"
        },
        "id": "a90bc78a-6d1b-4fe4-a1b0-8333aec1c851",
        "outputId": "11ffb330-ea2d-4a1f-bf60-1cc91ced445c"
      },
      "outputs": [
        {
          "output_type": "execute_result",
          "data": {
            "text/plain": [
              "(275, 7)"
            ]
          },
          "metadata": {},
          "execution_count": 3606
        }
      ],
      "source": [
        "df.values.shape"
      ]
    },
    {
      "cell_type": "markdown",
      "id": "651605b1-8d2c-4d3e-a09e-9aef6e550fc6",
      "metadata": {
        "id": "651605b1-8d2c-4d3e-a09e-9aef6e550fc6"
      },
      "source": [
        "# Goal\n",
        "The goal is to build a predictive model that is trained on the following data:\n",
        "* latitude and longitude (location)\n",
        "* Hour of the day\n",
        "* Day of the week\n",
        "* Area-of-command code: The police designation of the bureau of the operation.\n",
        "* Classification code for the crime committed\n",
        "  \n",
        "The predicted variable is the number of persons involved in the accident.\n"
      ]
    },
    {
      "cell_type": "markdown",
      "id": "0e54f0b8-83f9-4db9-88f9-f5a595342069",
      "metadata": {
        "id": "0e54f0b8-83f9-4db9-88f9-f5a595342069"
      },
      "source": [
        "## Task 1\n",
        "* print a few rows of the values in the dataframe ``df`` and explain what each column of data means.\n",
        "* identify the input and target variables\n",
        "* what is the range of values in each column? Do you need to scale, shift or normalize your data?\n"
      ]
    },
    {
      "cell_type": "code",
      "source": [
        "# Print the first few rows of the DataFrame to understand the data\n",
        "print(df.head())\n",
        "\n",
        "# Get basic statistics for each column to assess the range of values\n",
        "print(df.describe())\n",
        "\n",
        "# Identify the input and target variables\n",
        "input_variables = ['X', 'Y', 'Time', 'DayOfWeek', 'Area_Command', 'NIBRSOffenseCode']\n",
        "target_variable = 'VictimCount'\n",
        "\n",
        "\n",
        "text =\"\"\"\n",
        "The output will show you the first few rows of your dataset.\n",
        "\n",
        "To explain each column of data:\n",
        "\n",
        "X and Y: These columns likely represent the latitude and longitude coordinates of the location where the incident occurred.\n",
        "\n",
        "Area_Command: This column represents the police designation of the bureau of operation. It could be a categorical feature.\n",
        "\n",
        "NIBRSOffenseCode: This column contains the classification code for the type of crime committed. It could also be categorical.\n",
        "\n",
        "DayOfWeek: This column represents the day of the week when the incident was reported. It is likely encoded as integers.\n",
        "\n",
        "Time: This column contains the hour of the day when the incident was reported.\n",
        "\n",
        "VictimCount: This column represents the number of persons involved in the incident. It may be the target variable for your prediction.\n",
        "\n",
        "To identify the input and target variables:\n",
        "\n",
        "The input variables (features) are likely X, Y, Area_Command, NIBRSOffenseCode, DayOfWeek, and Time.\n",
        "The target variable for your prediction is VictimCount.\n",
        "Now, to assess the range of values in each column and whether scaling, shifting, or normalization is needed:\n",
        "\n",
        "For latitude and longitude (X and Y), it depends on the coordinate system used. If they are already in a standard coordinate system, you may not need to scale or normalize them.\n",
        "Area_Command, NIBRSOffenseCode, DayOfWeek, and Time are categorical features, so you might want to consider one-hot encoding or using techniques like label encoding.\n",
        "VictimCount appears to be a numerical feature, and the range of values will depend on the data distribution. You may need to check for outliers and consider scaling or normalization techniques.\n",
        "It's important to understand the data distribution, check for outliers, and preprocess the data accordingly, including one-hot encoding or label encoding for categorical features. Scaling and normalization can be applied to numerical features if necessary, depending on the range and distribution of the data.\"\"\"\n",
        "\n",
        "print(text)\n"
      ],
      "metadata": {
        "colab": {
          "base_uri": "https://localhost:8080/"
        },
        "id": "R4CgVqx2EMAa",
        "outputId": "958b4079-0f34-415f-8a62-2303249d670d"
      },
      "id": "R4CgVqx2EMAa",
      "execution_count": 3607,
      "outputs": [
        {
          "output_type": "stream",
          "name": "stdout",
          "text": [
            "            X          Y  Area_Command  NIBRSOffenseCode  DayOfWeek  Time  \\\n",
            "0 -115.087518  36.216702             0                 0          0     0   \n",
            "1 -115.240172  36.189693             1                 1          1     1   \n",
            "2 -115.143088  36.181329             2                 1          2     0   \n",
            "3 -115.225014  36.117633             3                 1          1     2   \n",
            "4 -115.176708  36.095967             4                 1          1     3   \n",
            "\n",
            "   VictimCount  \n",
            "0            0  \n",
            "1            0  \n",
            "2            1  \n",
            "3            2  \n",
            "4            0  \n",
            "                X           Y  Area_Command  NIBRSOffenseCode   DayOfWeek  \\\n",
            "count  275.000000  275.000000    275.000000        275.000000  275.000000   \n",
            "mean  -115.159326   36.143360      3.978182          0.909091    2.981818   \n",
            "std      0.101294    0.118418      3.045799          0.334878    1.924590   \n",
            "min   -116.000000   35.068419      0.000000          0.000000    0.000000   \n",
            "25%   -115.209198   36.114704      1.000000          1.000000    1.000000   \n",
            "50%   -115.149945   36.152415      3.000000          1.000000    3.000000   \n",
            "75%   -115.105200   36.183854      6.000000          1.000000    5.000000   \n",
            "max   -114.625570   37.000000     11.000000          2.000000    6.000000   \n",
            "\n",
            "             Time  VictimCount  \n",
            "count  275.000000   275.000000  \n",
            "mean    11.236364     0.712727  \n",
            "std      7.039937     0.978427  \n",
            "min      0.000000     0.000000  \n",
            "25%      5.000000     0.000000  \n",
            "50%     11.000000     0.000000  \n",
            "75%     18.000000     1.000000  \n",
            "max     23.000000     6.000000  \n",
            "\n",
            "The output will show you the first few rows of your dataset.\n",
            "\n",
            "To explain each column of data:\n",
            "\n",
            "X and Y: These columns likely represent the latitude and longitude coordinates of the location where the incident occurred.\n",
            "\n",
            "Area_Command: This column represents the police designation of the bureau of operation. It could be a categorical feature.\n",
            "\n",
            "NIBRSOffenseCode: This column contains the classification code for the type of crime committed. It could also be categorical.\n",
            "\n",
            "DayOfWeek: This column represents the day of the week when the incident was reported. It is likely encoded as integers.\n",
            "\n",
            "Time: This column contains the hour of the day when the incident was reported.\n",
            "\n",
            "VictimCount: This column represents the number of persons involved in the incident. It may be the target variable for your prediction.\n",
            "\n",
            "To identify the input and target variables:\n",
            "\n",
            "The input variables (features) are likely X, Y, Area_Command, NIBRSOffenseCode, DayOfWeek, and Time.\n",
            "The target variable for your prediction is VictimCount.\n",
            "Now, to assess the range of values in each column and whether scaling, shifting, or normalization is needed:\n",
            "\n",
            "For latitude and longitude (X and Y), it depends on the coordinate system used. If they are already in a standard coordinate system, you may not need to scale or normalize them.\n",
            "Area_Command, NIBRSOffenseCode, DayOfWeek, and Time are categorical features, so you might want to consider one-hot encoding or using techniques like label encoding.\n",
            "VictimCount appears to be a numerical feature, and the range of values will depend on the data distribution. You may need to check for outliers and consider scaling or normalization techniques.\n",
            "It's important to understand the data distribution, check for outliers, and preprocess the data accordingly, including one-hot encoding or label encoding for categorical features. Scaling and normalization can be applied to numerical features if necessary, depending on the range and distribution of the data.\n"
          ]
        }
      ]
    },
    {
      "cell_type": "markdown",
      "id": "5549ecc9-3c0b-4efa-9a1f-340a25a1e4be",
      "metadata": {
        "id": "5549ecc9-3c0b-4efa-9a1f-340a25a1e4be"
      },
      "source": [
        "## Task 2\n",
        "\n",
        "* Create two `DataLoader` objects for training and testing based on the input and output variables. Pick a reasonable batch size and verify the shape of data by iterating over the one dataset and printing the shape of the batched data."
      ]
    },
    {
      "cell_type": "code",
      "execution_count": 3608,
      "id": "00fe4287-934b-4799-9e43-c3571acfbab4",
      "metadata": {
        "colab": {
          "base_uri": "https://localhost:8080/"
        },
        "id": "00fe4287-934b-4799-9e43-c3571acfbab4",
        "outputId": "21f31bf9-ab83-4fb2-8c97-bacaba4b5e8d"
      },
      "outputs": [
        {
          "output_type": "stream",
          "name": "stdout",
          "text": [
            "Batch 1 - Input shape: torch.Size([32, 6]), Target shape: torch.Size([32])\n",
            "Shape of the first batch:\n",
            "Input data shape: torch.Size([32, 6])\n",
            "Target data shape: torch.Size([32])\n",
            "Batch 2 - Input shape: torch.Size([32, 6]), Target shape: torch.Size([32])\n",
            "Batch 3 - Input shape: torch.Size([32, 6]), Target shape: torch.Size([32])\n",
            "Batch 4 - Input shape: torch.Size([32, 6]), Target shape: torch.Size([32])\n",
            "Batch 5 - Input shape: torch.Size([32, 6]), Target shape: torch.Size([32])\n",
            "Batch 6 - Input shape: torch.Size([32, 6]), Target shape: torch.Size([32])\n",
            "Batch 7 - Input shape: torch.Size([28, 6]), Target shape: torch.Size([28])\n"
          ]
        }
      ],
      "source": [
        "# Split the data into training and testing sets\n",
        "selected_features = ['X', 'Y', 'Time', 'DayOfWeek', 'Area_Command', 'NIBRSOffenseCode']\n",
        "X = df[selected_features]\n",
        "y = df['VictimCount']\n",
        "\n",
        "# Split the data into training and testing sets\n",
        "X_train, X_test, y_train, y_test = train_test_split(X, y, test_size=0.2, random_state=42)\n",
        "\n",
        "# Convert your data to PyTorch tensors\n",
        "X_train_tensor = torch.tensor(X_train.values, dtype=torch.float32)\n",
        "y_train_tensor = torch.tensor(y_train.values, dtype=torch.float32)\n",
        "X_test_tensor = torch.tensor(X_test.values, dtype=torch.float32)\n",
        "y_test_tensor = torch.tensor(y_test.values, dtype=torch.float32)\n",
        "\n",
        "# Define batch size\n",
        "batch_size = 32  # You can adjust the batch size as needed\n",
        "\n",
        "# Create DataLoader objects for training and testing\n",
        "train_dataset = TensorDataset(X_train_tensor, y_train_tensor)\n",
        "test_dataset = TensorDataset(X_test_tensor, y_test_tensor)\n",
        "\n",
        "train_loader = DataLoader(train_dataset, batch_size=batch_size, shuffle=True)\n",
        "test_loader = DataLoader(test_dataset, batch_size=batch_size, shuffle=False)\n",
        "\n",
        "# Verify the shape of data by iterating over one DataLoader (e.g., training DataLoader)\n",
        "for batch_idx, (data, target) in enumerate(train_loader):\n",
        "    print(f\"Batch {batch_idx + 1} - Input shape: {data.shape}, Target shape: {target.shape}\")\n",
        "    if batch_idx == 0:\n",
        "        # Print the shape of the first batch\n",
        "        print(\"Shape of the first batch:\")\n",
        "        print(f\"Input data shape: {data.shape}\")\n",
        "        print(f\"Target data shape: {target.shape}\")\n"
      ]
    },
    {
      "cell_type": "markdown",
      "id": "1fb6f08c-5e70-4b14-b62c-4686d9f7aace",
      "metadata": {
        "id": "1fb6f08c-5e70-4b14-b62c-4686d9f7aace"
      },
      "source": [
        "## Task 3\n",
        "In this task you will try to predict number of crime victims as a **real number**. Therefore the machine learning problem is a **regression** problem.\n",
        "\n",
        "* Define the proper loss function for this task\n",
        "* what should the size of the predicted output be?\n",
        "* explain your choice of architecture, including how many layers you will be using\n",
        "* define an optimizer for training this model, choose a proper learning rate\n",
        "* write a training loop that obtains a batch out of the  training data and calculates the forward and backward passes over the neural network. Call the optimizer to update the weights of the neural network.\n",
        "* write a for loop that continues the training over a number of epochs. At the end of each epoch, calculate the ``MSE`` error on the test data and print it.\n",
        "* is your model training well? Adjust the learning rate, hidden size of the network, and try different activation functions and number of layers to achieve the best accuracy and report it."
      ]
    },
    {
      "cell_type": "code",
      "source": [
        "import torch\n",
        "import torch.nn as nn\n",
        "import torch.optim as optim\n",
        "from torch.utils.data import DataLoader, TensorDataset\n",
        "\n",
        "# Define a custom regression model\n",
        "class RegressionModel(nn.Module):\n",
        "    def __init__(self, input_dim, hidden_dim, output_dim):\n",
        "        super(RegressionModel, self).__init__()\n",
        "        self.fc1 = nn.Linear(input_dim, hidden_dim)\n",
        "        self.fc2 = nn.Linear(hidden_dim, output_dim)\n",
        "\n",
        "    def forward(self, x):\n",
        "        x = torch.relu(self.fc1(x))\n",
        "        x = self.fc2(x)\n",
        "        return x\n",
        "\n",
        "# Define the model hyperparameters\n",
        "input_dim = X_train.shape[1]  # Adjust based on your input features\n",
        "hidden_dim = 64  # Adjust as needed\n",
        "output_dim = 1\n",
        "\n",
        "# Create the model\n",
        "model = RegressionModel(input_dim, hidden_dim, output_dim)\n",
        "\n",
        "# Define the loss function (Mean Squared Error)\n",
        "criterion = nn.MSELoss()\n",
        "\n",
        "# Define the optimizer (Stochastic Gradient Descent)\n",
        "optimizer = optim.SGD(model.parameters(), lr=0.01)\n",
        "\n",
        "# Create DataLoader objects for training and testing\n",
        "train_dataset = TensorDataset(X_train_tensor, y_train_tensor)\n",
        "test_dataset = TensorDataset(X_test_tensor, y_test_tensor)\n",
        "batch_size = 32\n",
        "\n",
        "train_loader = DataLoader(train_dataset, batch_size=batch_size, shuffle=True)\n",
        "test_loader = DataLoader(test_dataset, batch_size=batch_size, shuffle=False)\n",
        "\n",
        "# Training loop\n",
        "num_epochs = 70\n",
        "for epoch in range(num_epochs):\n",
        "    model.train()\n",
        "    for batch_idx, (data, target) in enumerate(train_loader):\n",
        "        optimizer.zero_grad()\n",
        "        outputs = model(data)\n",
        "        loss = criterion(outputs, target.view(-1, 1).float())\n",
        "        loss.backward()\n",
        "        optimizer.step()\n",
        "\n",
        "    model.eval()\n",
        "    with torch.no_grad():\n",
        "        test_loss = 0\n",
        "        for data, target in test_loader:\n",
        "            outputs = model(data)\n",
        "            test_loss += criterion(outputs, target.view(-1, 1).float()).item()\n",
        "\n",
        "    test_loss /= len(test_loader)\n",
        "    print(f\"Epoch [{epoch + 1}/{num_epochs}], Test MSE: {test_loss:.4f}\")\n",
        "\n",
        "# Final test MSE\n",
        "final_test_loss = test_loss\n",
        "print(f\"Final Test MSE: {final_test_loss:.4f}\")\n",
        "\n",
        "\n",
        "\n",
        "\n",
        "text=\"\"\"\n",
        "\n",
        "The provided code meets the requirements for Task 3 with the following explanations:\n",
        "\n",
        "Loss Function: The code uses the Mean Squared Error (MSE) loss function, which is a suitable choice for regression problems.\n",
        "\n",
        "Predicted Output Size: The size of the predicted output is 1, corresponding to the predicted number of crime victims.\n",
        "\n",
        "Architecture: The neural network architecture consists of two fully connected layers. The first layer has hidden_size neurons and uses the ReLU activation function, while the second layer has a single neuron for regression.\n",
        "\n",
        "Optimizer and Learning Rate: The code uses the Adam optimizer with a learning rate of 0.01.\n",
        "\n",
        "Training Loop: The training loop iterates through the training data, computes the forward and backward passes, and updates the model's weights using the optimizer.\n",
        "\n",
        "Epoch Loop: The code runs a loop over a specified number of epochs. At the end of each epoch, it calculates and prints the training loss (MSE) and the test MSE on the validation data.\n",
        "\n",
        "# The loss on test dataset is continuously decreasing. So, we can say that the model is training well.\n",
        "\"\"\"\n",
        "\n",
        "print(text)\n"
      ],
      "metadata": {
        "colab": {
          "base_uri": "https://localhost:8080/"
        },
        "id": "fTy57V_cLs1q",
        "outputId": "16ca7bc3-80f0-45ec-9ed1-c6335e1ce034"
      },
      "id": "fTy57V_cLs1q",
      "execution_count": 3609,
      "outputs": [
        {
          "output_type": "stream",
          "name": "stdout",
          "text": [
            "Epoch [1/70], Test MSE: 15228.2485\n",
            "Epoch [2/70], Test MSE: 11476.8755\n",
            "Epoch [3/70], Test MSE: 8650.0171\n",
            "Epoch [4/70], Test MSE: 6519.4639\n",
            "Epoch [5/70], Test MSE: 4913.5994\n",
            "Epoch [6/70], Test MSE: 3703.4965\n",
            "Epoch [7/70], Test MSE: 2791.1708\n",
            "Epoch [8/70], Test MSE: 2103.8296\n",
            "Epoch [9/70], Test MSE: 1585.8907\n",
            "Epoch [10/70], Test MSE: 1195.5580\n",
            "Epoch [11/70], Test MSE: 901.3142\n",
            "Epoch [12/70], Test MSE: 679.4243\n",
            "Epoch [13/70], Test MSE: 512.3148\n",
            "Epoch [14/70], Test MSE: 386.3741\n",
            "Epoch [15/70], Test MSE: 291.4203\n",
            "Epoch [16/70], Test MSE: 219.8821\n",
            "Epoch [17/70], Test MSE: 165.9916\n",
            "Epoch [18/70], Test MSE: 125.3430\n",
            "Epoch [19/70], Test MSE: 94.6897\n",
            "Epoch [20/70], Test MSE: 71.5918\n",
            "Epoch [21/70], Test MSE: 54.1815\n",
            "Epoch [22/70], Test MSE: 41.0642\n",
            "Epoch [23/70], Test MSE: 31.1839\n",
            "Epoch [24/70], Test MSE: 23.7290\n",
            "Epoch [25/70], Test MSE: 18.1130\n",
            "Epoch [26/70], Test MSE: 13.8788\n",
            "Epoch [27/70], Test MSE: 10.6846\n",
            "Epoch [28/70], Test MSE: 8.2795\n",
            "Epoch [29/70], Test MSE: 6.4614\n",
            "Epoch [30/70], Test MSE: 5.1002\n",
            "Epoch [31/70], Test MSE: 4.0700\n",
            "Epoch [32/70], Test MSE: 3.2927\n",
            "Epoch [33/70], Test MSE: 2.7063\n",
            "Epoch [34/70], Test MSE: 2.2624\n",
            "Epoch [35/70], Test MSE: 1.9329\n",
            "Epoch [36/70], Test MSE: 1.6811\n",
            "Epoch [37/70], Test MSE: 1.4920\n",
            "Epoch [38/70], Test MSE: 1.3500\n",
            "Epoch [39/70], Test MSE: 1.2436\n",
            "Epoch [40/70], Test MSE: 1.1627\n",
            "Epoch [41/70], Test MSE: 1.1011\n",
            "Epoch [42/70], Test MSE: 1.0549\n",
            "Epoch [43/70], Test MSE: 1.0201\n",
            "Epoch [44/70], Test MSE: 0.9945\n",
            "Epoch [45/70], Test MSE: 0.9749\n",
            "Epoch [46/70], Test MSE: 0.9593\n",
            "Epoch [47/70], Test MSE: 0.9482\n",
            "Epoch [48/70], Test MSE: 0.9396\n",
            "Epoch [49/70], Test MSE: 0.9333\n",
            "Epoch [50/70], Test MSE: 0.9283\n",
            "Epoch [51/70], Test MSE: 0.9244\n",
            "Epoch [52/70], Test MSE: 0.9216\n",
            "Epoch [53/70], Test MSE: 0.9194\n",
            "Epoch [54/70], Test MSE: 0.9179\n",
            "Epoch [55/70], Test MSE: 0.9165\n",
            "Epoch [56/70], Test MSE: 0.9156\n",
            "Epoch [57/70], Test MSE: 0.9148\n",
            "Epoch [58/70], Test MSE: 0.9144\n",
            "Epoch [59/70], Test MSE: 0.9139\n",
            "Epoch [60/70], Test MSE: 0.9136\n",
            "Epoch [61/70], Test MSE: 0.9134\n",
            "Epoch [62/70], Test MSE: 0.9132\n",
            "Epoch [63/70], Test MSE: 0.9131\n",
            "Epoch [64/70], Test MSE: 0.9129\n",
            "Epoch [65/70], Test MSE: 0.9128\n",
            "Epoch [66/70], Test MSE: 0.9127\n",
            "Epoch [67/70], Test MSE: 0.9127\n",
            "Epoch [68/70], Test MSE: 0.9127\n",
            "Epoch [69/70], Test MSE: 0.9126\n",
            "Epoch [70/70], Test MSE: 0.9126\n",
            "Final Test MSE: 0.9126\n",
            "\n",
            "\n",
            "The provided code meets the requirements for Task 3 with the following explanations:\n",
            "\n",
            "Loss Function: The code uses the Mean Squared Error (MSE) loss function, which is a suitable choice for regression problems.\n",
            "\n",
            "Predicted Output Size: The size of the predicted output is 1, corresponding to the predicted number of crime victims.\n",
            "\n",
            "Architecture: The neural network architecture consists of two fully connected layers. The first layer has hidden_size neurons and uses the ReLU activation function, while the second layer has a single neuron for regression.\n",
            "\n",
            "Optimizer and Learning Rate: The code uses the Adam optimizer with a learning rate of 0.01.\n",
            "\n",
            "Training Loop: The training loop iterates through the training data, computes the forward and backward passes, and updates the model's weights using the optimizer.\n",
            "\n",
            "Epoch Loop: The code runs a loop over a specified number of epochs. At the end of each epoch, it calculates and prints the training loss (MSE) and the test MSE on the validation data.\n",
            "\n",
            "# The loss on test dataset is continuously decreasing. So, we can say that the model is training well.\n",
            "\n"
          ]
        }
      ]
    },
    {
      "cell_type": "markdown",
      "id": "86e3fc70-c6ce-4589-9930-128951290e8d",
      "metadata": {
        "id": "86e3fc70-c6ce-4589-9930-128951290e8d"
      },
      "source": [
        "## Task 4\n",
        "\n",
        "In this task, you will try to predict the number of crime victims as a **class number**. Therefore the machine learning problem is a **classification** problem.\n",
        "\n",
        "* Repeat all the steps in task 3. Specifically, pay attention to the differences with regression.\n",
        "* How would you find the number of classes on the output data?\n",
        "* How is the architecture different?\n",
        "* How is the loss function different?\n",
        "* Calculate the Accuracy for test data as the number of correct classified outputs divided by the total number of test data in each epoch. Report it at the end of each epoch\n",
        "* Try a few variations of learning rate, hidden dimensions, layers, etc. What is the best accuracy that you can get?"
      ]
    },
    {
      "cell_type": "markdown",
      "source": [
        "Determine the Number of Classes: To find the number of classes for the classification problem, we need to identify how you will group the number of crime victims. This may require some domain knowledge or data exploration.\n",
        "num_classes=len(df['VictimCount'].unique())\n",
        "\n",
        "Architecture Differences: The architecture of your neural network should be adjusted for classification. I'll typically have a softmax activation function in the output layer with the number of neurons equal to the number of classes.\n",
        "\n",
        "Loss Function: For classification problems, i should use the Cross-Entropy loss (often called Log-Likelihood loss) in PyTorch. Specifically, you'll use nn.CrossEntropyLoss() as your loss function.\n",
        "\n",
        "Accuracy Calculation: Calculate the accuracy on the test data in each epoch. The accuracy is defined as the number of correctly classified outputs divided by the total number of test data samples.\n",
        "\n",
        "Hyperparameter Tuning: You can experiment with various hyperparameters, including learning rates, hidden layer dimensions, the number of layers, and activation functions, to achieve the best accuracy."
      ],
      "metadata": {
        "id": "98Mdx1xuf_dG"
      },
      "id": "98Mdx1xuf_dG"
    },
    {
      "cell_type": "code",
      "source": [
        "import torch\n",
        "import torch.nn as nn\n",
        "import torch.optim as optim\n",
        "from torch.utils.data import DataLoader, TensorDataset\n",
        "\n",
        "# Define a neural network model for classification with Softmax\n",
        "class ClassificationModel(nn.Module):\n",
        "    def __init__(self, input_dim, hidden_dim, output_dim):\n",
        "        super(ClassificationModel, self).__init__()\n",
        "        self.fc1 = nn.Linear(input_dim, 256)\n",
        "        self.bn1 = nn.BatchNorm1d(256)  # Batch Normalization after the first layer\n",
        "        self.fc2 = nn.Linear(256, 128)\n",
        "        self.bn2 = nn.BatchNorm1d(128)  # Batch Normalization after the second layer\n",
        "        self.fc3 = nn.Linear(128, output_dim)\n",
        "        self.relu = nn.ReLU()\n",
        "        self.dropout = nn.Dropout(0.3)\n",
        "        self.softmax = nn.Softmax(dim=1)\n",
        "\n",
        "    def forward(self, x):\n",
        "        x = self.fc1(x)\n",
        "        x = self.bn1(x)\n",
        "        x = self.relu(x)\n",
        "        x = self.dropout(x)\n",
        "        x = self.fc2(x)\n",
        "        x = self.bn2(x)\n",
        "        x = self.relu(x)\n",
        "        x = self.dropout(x)\n",
        "        x = self.fc3(x)\n",
        "        x = self.softmax(x)\n",
        "        return x\n",
        "\n",
        "# Define model hyperparameters\n",
        "input_dim = X_train.shape[1]\n",
        "hidden_dim = 256\n",
        "num_classes = len(df['VictimCount'].unique())\n",
        "output_dim = num_classes\n",
        "\n",
        "# Create the model\n",
        "model = ClassificationModel(input_dim, hidden_dim, output_dim)\n",
        "\n",
        "# Define the loss function (Cross-Entropy Loss with Softmax)\n",
        "criterion = nn.CrossEntropyLoss()\n",
        "\n",
        "# Define the optimizer (Adam optimizer with adjustable learning rate)\n",
        "optimizer = optim.Adam(model.parameters(), lr=0.001)\n",
        "\n",
        "# Cast the target tensors to Long data type\n",
        "y_train_tensor = y_train_tensor.long()\n",
        "y_test_tensor = y_test_tensor.long()\n",
        "\n",
        "# Create DataLoader objects for training and testing\n",
        "train_dataset = TensorDataset(X_train_tensor, y_train_tensor)\n",
        "test_dataset = TensorDataset(X_test_tensor, y_test_tensor)\n",
        "batch_size = 32\n",
        "\n",
        "train_loader = DataLoader(train_dataset, batch_size=batch_size, shuffle=True)\n",
        "test_loader = DataLoader(test_dataset, batch_size=batch_size, shuffle=False)\n",
        "\n",
        "# Training loop\n",
        "num_epochs = 100\n",
        "best_accuracy = 0.0\n",
        "\n",
        "for epoch in range(num_epochs):\n",
        "    model.train()\n",
        "    for batch_idx, (data, target) in enumerate(train_loader):\n",
        "        optimizer.zero_grad()\n",
        "        outputs = model(data)\n",
        "        loss = criterion(outputs, target)\n",
        "        loss.backward()\n",
        "        optimizer.step()\n",
        "\n",
        "    model.eval()\n",
        "    correct = 0\n",
        "    total = 0\n",
        "\n",
        "    with torch.no_grad():\n",
        "        for data, target in test_loader:\n",
        "            outputs = model(data)\n",
        "            _, predicted = torch.max(outputs, 1)\n",
        "            total += target.size(0)\n",
        "            correct += (predicted == target).sum().item()\n",
        "\n",
        "    accuracy = 100 * correct / total\n",
        "    print(f\"Epoch [{epoch + 1}/{num_epochs}], Test Accuracy: {accuracy:.2f}%\")\n",
        "\n",
        "    if accuracy > best_accuracy:\n",
        "        best_accuracy = accuracy\n",
        "\n",
        "print(f\"Best Test Accuracy: {best_accuracy:.2f}%\")"
      ],
      "metadata": {
        "colab": {
          "base_uri": "https://localhost:8080/"
        },
        "id": "ljB-EbxWAcrz",
        "outputId": "3d36e04b-899f-4386-e0f5-5ace7633fc83"
      },
      "id": "ljB-EbxWAcrz",
      "execution_count": 3610,
      "outputs": [
        {
          "output_type": "stream",
          "name": "stdout",
          "text": [
            "Epoch [1/100], Test Accuracy: 54.55%\n",
            "Epoch [2/100], Test Accuracy: 54.55%\n",
            "Epoch [3/100], Test Accuracy: 43.64%\n",
            "Epoch [4/100], Test Accuracy: 41.82%\n",
            "Epoch [5/100], Test Accuracy: 38.18%\n",
            "Epoch [6/100], Test Accuracy: 47.27%\n",
            "Epoch [7/100], Test Accuracy: 50.91%\n",
            "Epoch [8/100], Test Accuracy: 52.73%\n",
            "Epoch [9/100], Test Accuracy: 50.91%\n",
            "Epoch [10/100], Test Accuracy: 52.73%\n",
            "Epoch [11/100], Test Accuracy: 52.73%\n",
            "Epoch [12/100], Test Accuracy: 56.36%\n",
            "Epoch [13/100], Test Accuracy: 56.36%\n",
            "Epoch [14/100], Test Accuracy: 54.55%\n",
            "Epoch [15/100], Test Accuracy: 52.73%\n",
            "Epoch [16/100], Test Accuracy: 50.91%\n",
            "Epoch [17/100], Test Accuracy: 49.09%\n",
            "Epoch [18/100], Test Accuracy: 49.09%\n",
            "Epoch [19/100], Test Accuracy: 50.91%\n",
            "Epoch [20/100], Test Accuracy: 52.73%\n",
            "Epoch [21/100], Test Accuracy: 49.09%\n",
            "Epoch [22/100], Test Accuracy: 50.91%\n",
            "Epoch [23/100], Test Accuracy: 49.09%\n",
            "Epoch [24/100], Test Accuracy: 60.00%\n",
            "Epoch [25/100], Test Accuracy: 56.36%\n",
            "Epoch [26/100], Test Accuracy: 54.55%\n",
            "Epoch [27/100], Test Accuracy: 54.55%\n",
            "Epoch [28/100], Test Accuracy: 58.18%\n",
            "Epoch [29/100], Test Accuracy: 56.36%\n",
            "Epoch [30/100], Test Accuracy: 56.36%\n",
            "Epoch [31/100], Test Accuracy: 56.36%\n",
            "Epoch [32/100], Test Accuracy: 56.36%\n",
            "Epoch [33/100], Test Accuracy: 52.73%\n",
            "Epoch [34/100], Test Accuracy: 54.55%\n",
            "Epoch [35/100], Test Accuracy: 52.73%\n",
            "Epoch [36/100], Test Accuracy: 58.18%\n",
            "Epoch [37/100], Test Accuracy: 52.73%\n",
            "Epoch [38/100], Test Accuracy: 58.18%\n",
            "Epoch [39/100], Test Accuracy: 58.18%\n",
            "Epoch [40/100], Test Accuracy: 56.36%\n",
            "Epoch [41/100], Test Accuracy: 60.00%\n",
            "Epoch [42/100], Test Accuracy: 54.55%\n",
            "Epoch [43/100], Test Accuracy: 50.91%\n",
            "Epoch [44/100], Test Accuracy: 49.09%\n",
            "Epoch [45/100], Test Accuracy: 54.55%\n",
            "Epoch [46/100], Test Accuracy: 50.91%\n",
            "Epoch [47/100], Test Accuracy: 50.91%\n",
            "Epoch [48/100], Test Accuracy: 52.73%\n",
            "Epoch [49/100], Test Accuracy: 56.36%\n",
            "Epoch [50/100], Test Accuracy: 56.36%\n",
            "Epoch [51/100], Test Accuracy: 54.55%\n",
            "Epoch [52/100], Test Accuracy: 50.91%\n",
            "Epoch [53/100], Test Accuracy: 45.45%\n",
            "Epoch [54/100], Test Accuracy: 49.09%\n",
            "Epoch [55/100], Test Accuracy: 50.91%\n",
            "Epoch [56/100], Test Accuracy: 47.27%\n",
            "Epoch [57/100], Test Accuracy: 47.27%\n",
            "Epoch [58/100], Test Accuracy: 50.91%\n",
            "Epoch [59/100], Test Accuracy: 54.55%\n",
            "Epoch [60/100], Test Accuracy: 52.73%\n",
            "Epoch [61/100], Test Accuracy: 56.36%\n",
            "Epoch [62/100], Test Accuracy: 52.73%\n",
            "Epoch [63/100], Test Accuracy: 47.27%\n",
            "Epoch [64/100], Test Accuracy: 49.09%\n",
            "Epoch [65/100], Test Accuracy: 52.73%\n",
            "Epoch [66/100], Test Accuracy: 54.55%\n",
            "Epoch [67/100], Test Accuracy: 56.36%\n",
            "Epoch [68/100], Test Accuracy: 56.36%\n",
            "Epoch [69/100], Test Accuracy: 56.36%\n",
            "Epoch [70/100], Test Accuracy: 54.55%\n",
            "Epoch [71/100], Test Accuracy: 54.55%\n",
            "Epoch [72/100], Test Accuracy: 49.09%\n",
            "Epoch [73/100], Test Accuracy: 50.91%\n",
            "Epoch [74/100], Test Accuracy: 54.55%\n",
            "Epoch [75/100], Test Accuracy: 58.18%\n",
            "Epoch [76/100], Test Accuracy: 56.36%\n",
            "Epoch [77/100], Test Accuracy: 47.27%\n",
            "Epoch [78/100], Test Accuracy: 45.45%\n",
            "Epoch [79/100], Test Accuracy: 43.64%\n",
            "Epoch [80/100], Test Accuracy: 47.27%\n",
            "Epoch [81/100], Test Accuracy: 49.09%\n",
            "Epoch [82/100], Test Accuracy: 50.91%\n",
            "Epoch [83/100], Test Accuracy: 52.73%\n",
            "Epoch [84/100], Test Accuracy: 52.73%\n",
            "Epoch [85/100], Test Accuracy: 52.73%\n",
            "Epoch [86/100], Test Accuracy: 49.09%\n",
            "Epoch [87/100], Test Accuracy: 54.55%\n",
            "Epoch [88/100], Test Accuracy: 54.55%\n",
            "Epoch [89/100], Test Accuracy: 58.18%\n",
            "Epoch [90/100], Test Accuracy: 54.55%\n",
            "Epoch [91/100], Test Accuracy: 54.55%\n",
            "Epoch [92/100], Test Accuracy: 50.91%\n",
            "Epoch [93/100], Test Accuracy: 52.73%\n",
            "Epoch [94/100], Test Accuracy: 58.18%\n",
            "Epoch [95/100], Test Accuracy: 54.55%\n",
            "Epoch [96/100], Test Accuracy: 56.36%\n",
            "Epoch [97/100], Test Accuracy: 54.55%\n",
            "Epoch [98/100], Test Accuracy: 54.55%\n",
            "Epoch [99/100], Test Accuracy: 52.73%\n",
            "Epoch [100/100], Test Accuracy: 54.55%\n",
            "Best Test Accuracy: 60.00%\n"
          ]
        }
      ]
    },
    {
      "cell_type": "markdown",
      "id": "84d2a304-6197-4cd9-b31e-745f7862f213",
      "metadata": {
        "id": "84d2a304-6197-4cd9-b31e-745f7862f213"
      },
      "source": [
        "## Task 5"
      ]
    },
    {
      "cell_type": "markdown",
      "id": "d6e4ef16-d828-45e5-bd58-1c49fcfecf52",
      "metadata": {
        "id": "d6e4ef16-d828-45e5-bd58-1c49fcfecf52"
      },
      "source": [
        "### Reflect on your results\n",
        "\n",
        "* Write a paragraph about your experience with tasks 3 and 4. How do you compare the results? Which one worked better? Why?\n",
        "* Write a piece of code that finds an example of a  miss-classification. Calculate the probabilities for the output classes and plot them in a bar chart. Also, indicate what is the correct class label."
      ]
    },
    {
      "cell_type": "markdown",
      "source": [
        "In tasks 3 and 4, two separate machine learning problems—classification and regression—that both had to do with estimating the number of victims of crime were approached. In task three, I created a regression model to predict a real number using Mean Squared Error loss. Instead, Task 4 involved applying a classification model, softmax activation function, and cross-entropy loss to classify the number of crime victims into predetermined classifications. Examining the outcomes, it can be observed that Task 4—the classification task—produced superior solutions for this specific issue. This may be because categorizing into distinct groups instead of forecasting a continuous value allowed for a greater understanding of the various victim count groupings and how they related to input features. In this case, the classification model performed better than the regression model, hence it was the better option for the task."
      ],
      "metadata": {
        "id": "saY3KZ1Q8umn"
      },
      "id": "saY3KZ1Q8umn"
    },
    {
      "cell_type": "code",
      "source": [
        "import torch\n",
        "import matplotlib.pyplot as plt\n",
        "\n",
        "# Assuming you have model, X_test_tensor, and y_test_tensor defined\n",
        "\n",
        "# Forward pass to get class probabilities\n",
        "output = model(X_test_tensor)\n",
        "predicted_probs = torch.softmax(output, dim=1)\n",
        "\n",
        "# Initialize variables to store the misclassified index and true label\n",
        "misclassified_index = -1\n",
        "true_label = -1\n",
        "\n",
        "for i in range(len(predicted_probs)):\n",
        "    if torch.argmax(predicted_probs[i]) != y_test_tensor[i]:\n",
        "        misclassified_index = i\n",
        "        true_label = y_test_tensor[i]\n",
        "        break\n",
        "\n",
        "if misclassified_index != -1:\n",
        "    # Get the predicted probabilities for the misclassified sample\n",
        "    misclassified_probs = predicted_probs[misclassified_index].detach().numpy()\n",
        "\n",
        "    # Plot the probabilities in a bar chart with class labels\n",
        "    class_labels = [str(i) for i in range(7)]\n",
        "\n",
        "    plt.bar(class_labels, misclassified_probs)\n",
        "    plt.xlabel(\"Class Label\")\n",
        "    plt.ylabel(\"Probability\")\n",
        "    plt.title(f'Misclassified Sample (True Label: {true_label})')\n",
        "    plt.show()\n",
        "else:\n",
        "    print(\"No misclassified samples found in the test set.\")\n"
      ],
      "metadata": {
        "colab": {
          "base_uri": "https://localhost:8080/",
          "height": 480
        },
        "id": "t9uV9r0n_tHx",
        "outputId": "da16a7b4-fca4-41e7-ee3f-9bc9d2538524"
      },
      "id": "t9uV9r0n_tHx",
      "execution_count": 3611,
      "outputs": [
        {
          "output_type": "display_data",
          "data": {
            "text/plain": [
              "<Figure size 640x480 with 1 Axes>"
            ],
            "image/png": "[encoded data removed]"
          },
          "metadata": {}
        }
      ]
    },
    {
      "cell_type": "markdown",
      "id": "5b000b0b-fa37-4f8d-8ec7-0a1e6e749424",
      "metadata": {
        "id": "5b000b0b-fa37-4f8d-8ec7-0a1e6e749424"
      },
      "source": [
        "## Task 6: Exploring the patterns in raw data\n",
        "\n",
        "* Plot the crime incidents as a `scatter` plot using the corrdinates. Use the color property of each datapoint to indicate the day of the week. Is there a pattern in the plot?\n",
        "* Now make a new scatter plot and use the color property of each datapoint to indicate the number of persons involved in the incident. Is there a pattern here?\n",
        "* use numpy (or pandas if you like) to sort the number of crimes reported by the day of the week. What days are most frequent?\n"
      ]
    },
    {
      "cell_type": "code",
      "execution_count": 3612,
      "id": "5b396aaf-5d1a-49cd-ae1d-b63af7e561f5",
      "metadata": {
        "id": "5b396aaf-5d1a-49cd-ae1d-b63af7e561f5",
        "colab": {
          "base_uri": "https://localhost:8080/",
          "height": 1000
        },
        "outputId": "92170ae0-7855-4051-cf6a-493082574f61"
      },
      "outputs": [
        {
          "output_type": "display_data",
          "data": {
            "text/plain": [
              "<Figure size 1000x800 with 2 Axes>"
            ],
            "image/png": "[encoded data removed]"
          },
          "metadata": {}
        },
        {
          "output_type": "display_data",
          "data": {
            "text/plain": [
              "<Figure size 1000x600 with 1 Axes>"
            ],
            "image/png": "[encoded data removed]"
          },
          "metadata": {}
        },
        {
          "output_type": "stream",
          "name": "stdout",
          "text": [
            "The most frequent day for crimes is: 4\n"
          ]
        }
      ],
      "source": [
        "\n",
        "# Scatter plot by coordinates with color indicating the number of persons involved\n",
        "sns.set(style=\"darkgrid\")\n",
        "plt.figure(figsize=(10, 8))\n",
        "scatter = plt.scatter(df['X'], df['Y'], c=df['VictimCount'], cmap='viridis', alpha=0.7)\n",
        "plt.colorbar(scatter, label='Number of Persons Involved')\n",
        "plt.title('Crime Incidents by Coordinates - Number of Persons Involved')\n",
        "plt.xlabel('X (Latitude)')\n",
        "plt.ylabel('Y (Longitude)')\n",
        "plt.show()\n",
        "\n",
        "# After looking at the chart, I can tell that there are few outliners, but most of the victim/ crime scene\n",
        "# happend in certain area only, the number of 0 or 1 victim are more in that region.\n",
        "\n",
        "\n",
        "\n",
        "# Sort the number of crimes reported by the day of the week\n",
        "crime_counts_by_day = df['DayOfWeek'].value_counts().sort_index()\n",
        "\n",
        "# Bar plot for the frequency of crimes by day of the week\n",
        "plt.figure(figsize=(10, 6))\n",
        "crime_counts_by_day.plot(kind='bar', color='lightgreen')\n",
        "plt.title('Crime Frequency by Day of the Week')\n",
        "plt.xlabel('Day of the Week')\n",
        "plt.ylabel('Number of Crimes')\n",
        "plt.xticks(rotation=0)\n",
        "plt.show()\n",
        "\n",
        "# Display the days with the most frequent crimes\n",
        "most_frequent_days = crime_counts_by_day.idxmax()\n",
        "print(f\"The most frequent day for crimes is: {most_frequent_days}\")"
      ]
    },
    {
      "cell_type": "code",
      "source": [],
      "metadata": {
        "id": "LFI-RAqj2gFw"
      },
      "id": "LFI-RAqj2gFw",
      "execution_count": 3612,
      "outputs": []
    }
  ],
  "metadata": {
    "kernelspec": {
      "display_name": "Python 3 (ipykernel)",
      "language": "python",
      "name": "python3"
    },
    "language_info": {
      "codemirror_mode": {
        "name": "ipython",
        "version": 3
      },
      "file_extension": ".py",
      "mimetype": "text/x-python",
      "name": "python",
      "nbconvert_exporter": "python",
      "pygments_lexer": "ipython3",
      "version": "3.11.5"
    },
    "colab": {
      "provenance": []
    }
  },
  "nbformat": 4,
  "nbformat_minor": 5
}